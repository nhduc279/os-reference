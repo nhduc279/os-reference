{
 "cells": [
  {
   "cell_type": "code",
   "execution_count": 1,
   "id": "4cfa6c76",
   "metadata": {},
   "outputs": [],
   "source": [
    "import os"
   ]
  },
  {
   "cell_type": "code",
   "execution_count": 2,
   "id": "6ed3ac5c",
   "metadata": {},
   "outputs": [
    {
     "name": "stdout",
     "output_type": "stream",
     "text": [
      "['DirEntry', 'F_OK', 'MutableMapping', 'O_APPEND', 'O_BINARY', 'O_CREAT', 'O_EXCL', 'O_NOINHERIT', 'O_RANDOM', 'O_RDONLY', 'O_RDWR', 'O_SEQUENTIAL', 'O_SHORT_LIVED', 'O_TEMPORARY', 'O_TEXT', 'O_TRUNC', 'O_WRONLY', 'P_DETACH', 'P_NOWAIT', 'P_NOWAITO', 'P_OVERLAY', 'P_WAIT', 'PathLike', 'R_OK', 'SEEK_CUR', 'SEEK_END', 'SEEK_SET', 'TMP_MAX', 'W_OK', 'X_OK', '_AddedDllDirectory', '_Environ', '__all__', '__builtins__', '__cached__', '__doc__', '__file__', '__loader__', '__name__', '__package__', '__spec__', '_check_methods', '_execvpe', '_exists', '_exit', '_fspath', '_get_exports_list', '_putenv', '_unsetenv', '_wrap_close', 'abc', 'abort', 'access', 'add_dll_directory', 'altsep', 'chdir', 'chmod', 'close', 'closerange', 'cpu_count', 'curdir', 'defpath', 'device_encoding', 'devnull', 'dup', 'dup2', 'environ', 'error', 'execl', 'execle', 'execlp', 'execlpe', 'execv', 'execve', 'execvp', 'execvpe', 'extsep', 'fdopen', 'fsdecode', 'fsencode', 'fspath', 'fstat', 'fsync', 'ftruncate', 'get_exec_path', 'get_handle_inheritable', 'get_inheritable', 'get_terminal_size', 'getcwd', 'getcwdb', 'getenv', 'getlogin', 'getpid', 'getppid', 'isatty', 'kill', 'linesep', 'link', 'listdir', 'lseek', 'lstat', 'makedirs', 'mkdir', 'name', 'open', 'pardir', 'path', 'pathsep', 'pipe', 'popen', 'putenv', 'read', 'readlink', 'remove', 'removedirs', 'rename', 'renames', 'replace', 'rmdir', 'scandir', 'sep', 'set_handle_inheritable', 'set_inheritable', 'spawnl', 'spawnle', 'spawnv', 'spawnve', 'st', 'startfile', 'stat', 'stat_result', 'statvfs_result', 'strerror', 'supports_bytes_environ', 'supports_dir_fd', 'supports_effective_ids', 'supports_fd', 'supports_follow_symlinks', 'symlink', 'sys', 'system', 'terminal_size', 'times', 'times_result', 'truncate', 'umask', 'uname_result', 'unlink', 'urandom', 'utime', 'waitpid', 'walk', 'write']\n"
     ]
    }
   ],
   "source": [
    "print(dir(os));"
   ]
  },
  {
   "cell_type": "code",
   "execution_count": 3,
   "id": "adb6766f",
   "metadata": {},
   "outputs": [
    {
     "data": {
      "text/plain": [
       "'C:\\\\Users\\\\HP'"
      ]
     },
     "execution_count": 3,
     "metadata": {},
     "output_type": "execute_result"
    }
   ],
   "source": [
    "# check current working directory\n",
    "os.getcwd()"
   ]
  },
  {
   "cell_type": "code",
   "execution_count": 4,
   "id": "d883f819",
   "metadata": {},
   "outputs": [
    {
     "data": {
      "text/plain": [
       "'C:\\\\Users\\\\HP\\\\master_file'"
      ]
     },
     "execution_count": 4,
     "metadata": {},
     "output_type": "execute_result"
    }
   ],
   "source": [
    "# change the directory\n",
    "os.chdir('C:\\\\Users\\\\HP\\\\master_file')\n",
    "os.getcwd()"
   ]
  },
  {
   "cell_type": "code",
   "execution_count": 5,
   "id": "1b5fe508",
   "metadata": {},
   "outputs": [
    {
     "data": {
      "text/plain": [
       "['duc.txt']"
      ]
     },
     "execution_count": 5,
     "metadata": {},
     "output_type": "execute_result"
    }
   ],
   "source": [
    "# list all the files or folders in current working directory\n",
    "os.listdir()"
   ]
  },
  {
   "cell_type": "markdown",
   "id": "4058f689",
   "metadata": {},
   "source": [
    "**Make dirs**"
   ]
  },
  {
   "cell_type": "code",
   "execution_count": 6,
   "id": "15e0ac1d",
   "metadata": {},
   "outputs": [
    {
     "data": {
      "text/plain": [
       "['duc.txt', 'thanh.txt']"
      ]
     },
     "execution_count": 6,
     "metadata": {},
     "output_type": "execute_result"
    }
   ],
   "source": [
    "# make a directory\n",
    "os.mkdir('thanh.txt')\n",
    "os.listdir()"
   ]
  },
  {
   "cell_type": "code",
   "execution_count": 7,
   "id": "5e926244",
   "metadata": {},
   "outputs": [],
   "source": [
    "# make a directory or its sub-directories\n",
    "os.makedirs('ly_1.txt\\\\ly_2.txt')"
   ]
  },
  {
   "cell_type": "markdown",
   "id": "921a9309",
   "metadata": {},
   "source": [
    "**Remove dirs**"
   ]
  },
  {
   "cell_type": "code",
   "execution_count": 8,
   "id": "62591c72",
   "metadata": {},
   "outputs": [
    {
     "data": {
      "text/plain": [
       "['duc.txt', 'ly_1.txt']"
      ]
     },
     "execution_count": 8,
     "metadata": {},
     "output_type": "execute_result"
    }
   ],
   "source": [
    "# remove one directory (respectively)\n",
    "os.rmdir('thanh.txt')\n",
    "os.listdir()"
   ]
  },
  {
   "cell_type": "code",
   "execution_count": 9,
   "id": "9169386b",
   "metadata": {},
   "outputs": [
    {
     "data": {
      "text/plain": [
       "['duc.txt']"
      ]
     },
     "execution_count": 9,
     "metadata": {},
     "output_type": "execute_result"
    }
   ],
   "source": [
    "# remove all of the given directory\n",
    "os.removedirs('ly_1.txt/ly_2.txt')\n",
    "os.listdir()"
   ]
  },
  {
   "cell_type": "markdown",
   "id": "37e5dac2",
   "metadata": {},
   "source": [
    "**Rename files/dirs**"
   ]
  },
  {
   "cell_type": "code",
   "execution_count": 10,
   "id": "5dfde06e",
   "metadata": {},
   "outputs": [
    {
     "data": {
      "text/plain": [
       "['huu_duc.txt']"
      ]
     },
     "execution_count": 10,
     "metadata": {},
     "output_type": "execute_result"
    }
   ],
   "source": [
    "# rename files\n",
    "os.rename('duc.txt', 'huu_duc.txt')\n",
    "os.listdir()"
   ]
  },
  {
   "cell_type": "markdown",
   "id": "c634140b",
   "metadata": {},
   "source": [
    "**Basic statistics of the given directory**"
   ]
  },
  {
   "cell_type": "code",
   "execution_count": 11,
   "id": "cebc915a",
   "metadata": {},
   "outputs": [
    {
     "data": {
      "text/plain": [
       "os.stat_result(st_mode=16895, st_ino=93449692268095152, st_dev=2492150330, st_nlink=1, st_uid=0, st_gid=0, st_size=0, st_atime=1638957631, st_mtime=1638957631, st_ctime=1638950918)"
      ]
     },
     "execution_count": 11,
     "metadata": {},
     "output_type": "execute_result"
    }
   ],
   "source": [
    "os.stat(os.getcwd())"
   ]
  },
  {
   "cell_type": "code",
   "execution_count": 12,
   "id": "3d902c54",
   "metadata": {},
   "outputs": [
    {
     "data": {
      "text/plain": [
       "os.stat_result(st_mode=33206, st_ino=62768919806487969, st_dev=2492150330, st_nlink=1, st_uid=0, st_gid=0, st_size=0, st_atime=1638953519, st_mtime=1638953519, st_ctime=1638953519)"
      ]
     },
     "execution_count": 12,
     "metadata": {},
     "output_type": "execute_result"
    }
   ],
   "source": [
    "# basic statistics\n",
    "os.stat('huu_duc.txt')"
   ]
  },
  {
   "cell_type": "markdown",
   "id": "b43fca45",
   "metadata": {},
   "source": [
    "- st_size: the size of the file (bytes)\n",
    "- st_mtime: modification time"
   ]
  },
  {
   "cell_type": "code",
   "execution_count": 13,
   "id": "7a82a478",
   "metadata": {},
   "outputs": [
    {
     "data": {
      "text/plain": [
       "0"
      ]
     },
     "execution_count": 13,
     "metadata": {},
     "output_type": "execute_result"
    }
   ],
   "source": [
    "# access to the size\n",
    "os.stat('huu_duc.txt').st_size"
   ]
  },
  {
   "cell_type": "code",
   "execution_count": 14,
   "id": "999018a7",
   "metadata": {},
   "outputs": [
    {
     "data": {
      "text/plain": [
       "1638953519.509825"
      ]
     },
     "execution_count": 14,
     "metadata": {},
     "output_type": "execute_result"
    }
   ],
   "source": [
    "mod_stamptime = os.stat('huu_duc.txt').st_mtime\n",
    "mod_stamptime"
   ]
  },
  {
   "cell_type": "code",
   "execution_count": 15,
   "id": "ab46e620",
   "metadata": {},
   "outputs": [
    {
     "name": "stdout",
     "output_type": "stream",
     "text": [
      "2021-12-08 15:51:59.509825\n"
     ]
    }
   ],
   "source": [
    "from datetime import datetime\n",
    "print(datetime.fromtimestamp(mod_stamptime))"
   ]
  },
  {
   "cell_type": "markdown",
   "id": "3af3c8c0",
   "metadata": {},
   "source": [
    "**Create a tree of directory**"
   ]
  },
  {
   "cell_type": "code",
   "execution_count": 16,
   "id": "12693d0c",
   "metadata": {},
   "outputs": [
    {
     "name": "stdout",
     "output_type": "stream",
     "text": [
      "Current path: C:\\Users\\HP\\master_file\n",
      "Directories: []\n",
      "Files: ['huu_duc.txt']\n"
     ]
    }
   ],
   "source": [
    "# create trees of directories\n",
    "for dir_path, dir_names, file_names in os.walk('C:\\\\Users\\\\HP\\\\master_file'):\n",
    "    print(f'Current path: {dir_path}')\n",
    "    print(f'Directories: {dir_names}')\n",
    "    print(f'Files: {file_names}')"
   ]
  },
  {
   "cell_type": "markdown",
   "id": "e40a9f6f",
   "metadata": {},
   "source": [
    "**Path methods**"
   ]
  },
  {
   "cell_type": "code",
   "execution_count": 17,
   "id": "fc850290",
   "metadata": {},
   "outputs": [
    {
     "data": {
      "text/plain": [
       "'C:\\\\Users\\\\HP\\\\master_file\\\\text.txt'"
      ]
     },
     "execution_count": 17,
     "metadata": {},
     "output_type": "execute_result"
    }
   ],
   "source": [
    "# concatenate paths using join method\n",
    "file_path = os.path.join(os.getcwd(), 'text.txt')\n",
    "file_path"
   ]
  },
  {
   "cell_type": "code",
   "execution_count": 18,
   "id": "1d362daa",
   "metadata": {},
   "outputs": [
    {
     "data": {
      "text/plain": [
       "'test.txt'"
      ]
     },
     "execution_count": 18,
     "metadata": {},
     "output_type": "execute_result"
    }
   ],
   "source": [
    "# show the basename \n",
    "os.path.basename('temp\\\\test.txt')"
   ]
  },
  {
   "cell_type": "code",
   "execution_count": 19,
   "id": "1403c5d4",
   "metadata": {},
   "outputs": [
    {
     "data": {
      "text/plain": [
       "'HP\\\\temp'"
      ]
     },
     "execution_count": 19,
     "metadata": {},
     "output_type": "execute_result"
    }
   ],
   "source": [
    "# show the dir\n",
    "os.path.dirname('HP\\\\temp\\\\test.txt')"
   ]
  },
  {
   "cell_type": "code",
   "execution_count": 20,
   "id": "b1e9c788",
   "metadata": {},
   "outputs": [
    {
     "data": {
      "text/plain": [
       "('HP\\\\temp', 'test.txt')"
      ]
     },
     "execution_count": 20,
     "metadata": {},
     "output_type": "execute_result"
    }
   ],
   "source": [
    "# split the dir into dirname and base name (returns a tuple)\n",
    "os.path.split('HP\\\\temp\\\\test.txt')"
   ]
  },
  {
   "cell_type": "code",
   "execution_count": 21,
   "id": "b4654517",
   "metadata": {},
   "outputs": [
    {
     "data": {
      "text/plain": [
       "False"
      ]
     },
     "execution_count": 21,
     "metadata": {},
     "output_type": "execute_result"
    }
   ],
   "source": [
    "# check whether the dir do exist or not\n",
    "os.path.exists('HP\\\\temp\\\\test.txt')"
   ]
  },
  {
   "cell_type": "code",
   "execution_count": 22,
   "id": "c335fa70",
   "metadata": {},
   "outputs": [
    {
     "data": {
      "text/plain": [
       "True"
      ]
     },
     "execution_count": 22,
     "metadata": {},
     "output_type": "execute_result"
    }
   ],
   "source": [
    "# check whether the give string is a dir or not\n",
    "os.path.isdir('C:\\\\Users\\\\HP\\\\master_file')"
   ]
  },
  {
   "cell_type": "code",
   "execution_count": 23,
   "id": "0f87413e",
   "metadata": {},
   "outputs": [
    {
     "data": {
      "text/plain": [
       "True"
      ]
     },
     "execution_count": 23,
     "metadata": {},
     "output_type": "execute_result"
    }
   ],
   "source": [
    "# check whether the give string is file\n",
    "os.path.isfile('huu_duc.txt')"
   ]
  },
  {
   "cell_type": "code",
   "execution_count": 24,
   "id": "e889657e",
   "metadata": {},
   "outputs": [
    {
     "data": {
      "text/plain": [
       "('C:\\\\Users\\\\HP\\\\master_file\\\\huu_duc', '.txt')"
      ]
     },
     "execution_count": 24,
     "metadata": {},
     "output_type": "execute_result"
    }
   ],
   "source": [
    "# split the given dir into \"dir\"and \"extension\" (returns a tuple) \n",
    "os.path.splitext('C:\\\\Users\\\\HP\\\\master_file\\\\huu_duc.txt')"
   ]
  }
 ],
 "metadata": {
  "kernelspec": {
   "display_name": "Python 3 (ipykernel)",
   "language": "python",
   "name": "python3"
  },
  "language_info": {
   "codemirror_mode": {
    "name": "ipython",
    "version": 3
   },
   "file_extension": ".py",
   "mimetype": "text/x-python",
   "name": "python",
   "nbconvert_exporter": "python",
   "pygments_lexer": "ipython3",
   "version": "3.8.8"
  }
 },
 "nbformat": 4,
 "nbformat_minor": 5
}
